{
 "cells": [
  {
   "cell_type": "code",
   "execution_count": 1,
   "id": "1d167447",
   "metadata": {},
   "outputs": [
    {
     "name": "stderr",
     "output_type": "stream",
     "text": [
      "/Volumes/Data/AI Projects/parallelization-multi-document-summarizer/.venv/lib/python3.13/site-packages/tqdm/auto.py:21: TqdmWarning: IProgress not found. Please update jupyter and ipywidgets. See https://ipywidgets.readthedocs.io/en/stable/user_install.html\n",
      "  from .autonotebook import tqdm as notebook_tqdm\n"
     ]
    }
   ],
   "source": [
    "import os\n",
    "import gradio as gr\n",
    "from dotenv import load_dotenv\n",
    "from openai import OpenAI\n",
    "from concurrent.futures import ThreadPoolExecutor\n"
   ]
  },
  {
   "cell_type": "code",
   "execution_count": 2,
   "id": "af9f3771",
   "metadata": {},
   "outputs": [],
   "source": [
    "load_dotenv(override=True)\n",
    "client = OpenAI(api_key=os.getenv(\"OPENAI_API_KEY\"))"
   ]
  },
  {
   "cell_type": "code",
   "execution_count": 3,
   "id": "2b7d51b7",
   "metadata": {},
   "outputs": [],
   "source": [
    "# LLM Call\n",
    "def call_llm(prompt):\n",
    "    response = client.chat.completions.create(\n",
    "        model=\"gpt-4\",\n",
    "        messages=[{\"role\": \"user\", \"content\": prompt}]\n",
    "    )\n",
    "    return response.choices[0].message.content.strip()"
   ]
  },
  {
   "cell_type": "code",
   "execution_count": 4,
   "id": "dd17d105",
   "metadata": {},
   "outputs": [],
   "source": [
    "# Summarize one document\n",
    "def summarize_document(doc_text):\n",
    "    prompt = f\"Summarize the following document in 5 bullet points:\\n\\n{doc_text}\"\n",
    "    return call_llm(prompt)\n",
    "\n",
    "# Summarize all documents in parallel\n",
    "def summarize_documents_parallel(doc_texts):\n",
    "    with ThreadPoolExecutor(max_workers=5) as executor:\n",
    "        summaries = list(executor.map(summarize_document, doc_texts))\n",
    "    return summaries\n",
    "\n",
    "# Merge all summaries into one overview\n",
    "def merge_summaries(summaries):\n",
    "    combined_text = \"\\n\\n\".join(f\"Summary {i+1}:\\n{s}\" for i, s in enumerate(summaries))\n",
    "    prompt = f\"You are a helpful analyst. Combine the following summaries into one coherent paragraph:\\n\\n{combined_text}\"\n",
    "    return call_llm(prompt)\n",
    "\n",
    "# Gradio Interface Handler\n",
    "def process_files(files):\n",
    "    doc_texts = []\n",
    "    for file in files:\n",
    "        if file.name.endswith(\".txt\"):\n",
    "            with open(file.name, \"r\", encoding=\"utf-8\") as f:\n",
    "                doc_texts.append(f.read())\n",
    "\n",
    "\n",
    "    if not doc_texts:\n",
    "        return \"No valid .txt files uploaded.\", None\n",
    "\n",
    "    summaries = summarize_documents_parallel(doc_texts)\n",
    "    merged_summary = merge_summaries(summaries)\n",
    "\n",
    "    summary_output = \"\\n\\n\".join(\n",
    "        f\"📄 Document {i+1} Summary:\\n{summary}\" for i, summary in enumerate(summaries)\n",
    "    )\n",
    "\n",
    "    return summary_output, f\"🧠 Merged Summary:\\n\\n{merged_summary}\""
   ]
  },
  {
   "cell_type": "code",
   "execution_count": 7,
   "id": "785f1d9f",
   "metadata": {},
   "outputs": [
    {
     "name": "stdout",
     "output_type": "stream",
     "text": [
      "* Running on local URL:  http://127.0.0.1:7862\n",
      "* To create a public link, set `share=True` in `launch()`.\n"
     ]
    },
    {
     "data": {
      "text/html": [
       "<div><iframe src=\"http://127.0.0.1:7862/\" width=\"100%\" height=\"500\" allow=\"autoplay; camera; microphone; clipboard-read; clipboard-write;\" frameborder=\"0\" allowfullscreen></iframe></div>"
      ],
      "text/plain": [
       "<IPython.core.display.HTML object>"
      ]
     },
     "metadata": {},
     "output_type": "display_data"
    },
    {
     "data": {
      "text/plain": []
     },
     "execution_count": 7,
     "metadata": {},
     "output_type": "execute_result"
    }
   ],
   "source": [
    "with gr.Blocks() as demo:\n",
    "    gr.Markdown(\"# 📚 Multi-Document Summarizer (Agentic AI)\")\n",
    "    gr.Markdown(\"Upload multiple .txt documents and get summaries & a merged overview.\")\n",
    "\n",
    "    with gr.Row():\n",
    "        file_input = gr.File(label=\"Upload .txt files\", file_types=[\".txt\"], file_count=\"multiple\")\n",
    "        submit_btn = gr.Button(\"Summarize\")\n",
    "\n",
    "        summary_output = gr.Textbox(label=\"Individual Summaries\", lines=20)\n",
    "        merged_output = gr.Textbox(label=\"Merged Overview\", lines=10)\n",
    "\n",
    "    submit_btn.click(fn=process_files, inputs=[file_input], outputs=[summary_output, merged_output])\n",
    "\n",
    "demo.launch()\n"
   ]
  },
  {
   "cell_type": "code",
   "execution_count": null,
   "id": "0ec0d414",
   "metadata": {},
   "outputs": [],
   "source": []
  }
 ],
 "metadata": {
  "kernelspec": {
   "display_name": ".venv",
   "language": "python",
   "name": "python3"
  },
  "language_info": {
   "codemirror_mode": {
    "name": "ipython",
    "version": 3
   },
   "file_extension": ".py",
   "mimetype": "text/x-python",
   "name": "python",
   "nbconvert_exporter": "python",
   "pygments_lexer": "ipython3",
   "version": "3.13.5"
  }
 },
 "nbformat": 4,
 "nbformat_minor": 5
}
